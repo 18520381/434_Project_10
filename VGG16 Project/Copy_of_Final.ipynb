{
  "nbformat": 4,
  "nbformat_minor": 0,
  "metadata": {
    "colab": {
      "name": "Copy of Final.ipynb",
      "provenance": [],
      "collapsed_sections": [],
      "include_colab_link": true
    },
    "kernelspec": {
      "display_name": "Python 3",
      "name": "python3"
    },
    "language_info": {
      "name": "python"
    }
  },
  "cells": [
    {
      "cell_type": "markdown",
      "metadata": {
        "id": "view-in-github",
        "colab_type": "text"
      },
      "source": [
        "<a href=\"https://colab.research.google.com/github/18520381/434_Project_10/blob/main/VGG16%20Project/Copy_of_Final.ipynb\" target=\"_parent\"><img src=\"https://colab.research.google.com/assets/colab-badge.svg\" alt=\"Open In Colab\"/></a>"
      ]
    },
    {
      "cell_type": "markdown",
      "metadata": {
        "id": "FgVnxdGsDOxj"
      },
      "source": [
        "Get data"
      ]
    },
    {
      "cell_type": "code",
      "metadata": {
        "colab": {
          "base_uri": "https://localhost:8080/"
        },
        "id": "PZvwIoV6tdbK",
        "outputId": "e9537bfc-2882-4cb1-9a29-bfdd86cc4d26"
      },
      "source": [
        "from google.colab import drive\n",
        "from torchvision import models\n",
        "drive.mount('/content/drive')\n",
        "%cd /content/drive/MyDrive/ColabNotebooks/data"
      ],
      "execution_count": 9,
      "outputs": [
        {
          "output_type": "stream",
          "text": [
            "Drive already mounted at /content/drive; to attempt to forcibly remount, call drive.mount(\"/content/drive\", force_remount=True).\n",
            "/content/drive/MyDrive/ColabNotebooks/data\n"
          ],
          "name": "stdout"
        }
      ]
    },
    {
      "cell_type": "code",
      "metadata": {
        "id": "DcZPWaaVueiw"
      },
      "source": [
        "import warnings\n",
        "warnings.filterwarnings('ignore')\n",
        "\n",
        "import cv2       \n",
        "import os\n",
        "\n",
        "import numpy as np\n",
        "import pandas as pd\n",
        "%matplotlib inline\n",
        "import matplotlib.pyplot as plt\n",
        "import seaborn as sns\n",
        "\n",
        "from keras.preprocessing.image import ImageDataGenerator\n",
        "\n",
        "from sklearn.model_selection import train_test_split\n",
        "from sklearn.metrics import confusion_matrix, accuracy_score, recall_score, classification_report\n",
        "from sklearn.preprocessing import LabelEncoder\n",
        "\n",
        "from keras.layers import Dense\n",
        "from keras.layers import Flatten, Activation\n",
        "from keras.layers import Conv2D, MaxPooling2D, GlobalMaxPooling2D\n",
        "from keras.optimizers import Adam, RMSprop, SGD\n",
        "from keras.utils.np_utils import to_categorical    \n",
        "from keras.models import Sequential\n",
        "from keras.applications.vgg16 import VGG16\n",
        "from keras.callbacks import ReduceLROnPlateau\n",
        "\n",
        "import random as rn\n",
        "from tqdm import tqdm"
      ],
      "execution_count": 10,
      "outputs": []
    },
    {
      "cell_type": "markdown",
      "metadata": {
        "id": "AIsVhNqVp_yj"
      },
      "source": [
        "Import data"
      ]
    },
    {
      "cell_type": "code",
      "metadata": {
        "colab": {
          "base_uri": "https://localhost:8080/"
        },
        "id": "oO7b4g3aQmGG",
        "outputId": "90892509-0081-48d1-8491-5bd788c24033"
      },
      "source": [
        "CLASS_NAME = [\"apple\", \"orange\"]\n",
        "DATA_PATH = \"../data/train/\"\n",
        "img_size = 112\n",
        "\n",
        "images = []\n",
        "labels = []\n",
        "pbar = tqdm(total=2000)\n",
        "for class_name in CLASS_NAME:\n",
        "    for _, _, files in os.walk(DATA_PATH+class_name, topdown=False):\n",
        "        for name in files:\n",
        "            image = cv2.imread(DATA_PATH+\"\"+class_name+\"/\"+name)\n",
        "            image = cv2.cvtColor(image, cv2.COLOR_BGR2RGB)\n",
        "            image = cv2.resize(image, (img_size,img_size))\n",
        "\n",
        "            images.append(np.array(image))\n",
        "            labels.append(str(class_name))\n",
        "\n",
        "            pbar.update(1)\n",
        "pbar.close()"
      ],
      "execution_count": null,
      "outputs": [
        {
          "output_type": "stream",
          "text": [
            "100%|██████████| 2000/2000 [11:00<00:00,  3.03it/s]\n"
          ],
          "name": "stderr"
        }
      ]
    },
    {
      "cell_type": "code",
      "metadata": {
        "id": "VbYmum2T3lZ9"
      },
      "source": [
        "data = np.array(images)\n",
        "labels = np.array(labels)\n",
        "\n",
        "le = LabelEncoder()\n",
        "y = le.fit_transform(labels)\n",
        "y = to_categorical(y, 2)\n",
        "X = data / 255.0\n",
        "X_train, X_test, y_train, y_test = train_test_split(X, y, test_size = 0.2, random_state = 5)\n",
        "\n",
        "np.random.seed(50)\n",
        "rn.seed(50)"
      ],
      "execution_count": null,
      "outputs": []
    },
    {
      "cell_type": "markdown",
      "metadata": {
        "id": "n1ilHRcpqCt9"
      },
      "source": [
        "Setup a VGG16 "
      ]
    },
    {
      "cell_type": "code",
      "metadata": {
        "id": "XK2kpFihvgOj"
      },
      "source": [
        "size = img_size\n",
        "fil = 8\n",
        "\n",
        "model = Sequential()\n",
        "model.add(Conv2D(input_shape=(size,size,3),filters=fil,kernel_size=(3,3),padding=\"same\", activation=\"relu\"))\n",
        "model.add(Conv2D(filters=fil,kernel_size=(3,3),padding=\"same\", activation=\"relu\"))\n",
        "model.add(MaxPooling2D(pool_size=(2,2),strides=(2,2)))\n",
        "\n",
        "model.add(Conv2D(filters=fil*2, kernel_size=(3,3), padding=\"same\", activation=\"relu\"))\n",
        "model.add(Conv2D(filters=fil*2, kernel_size=(3,3), padding=\"same\", activation=\"relu\"))\n",
        "model.add(MaxPooling2D(pool_size=(2,2),strides=(2,2)))\n",
        "\n",
        "model.add(Conv2D(filters=fil*4, kernel_size=(3,3), padding=\"same\", activation=\"relu\"))\n",
        "model.add(Conv2D(filters=fil*4, kernel_size=(3,3), padding=\"same\", activation=\"relu\"))\n",
        "model.add(Conv2D(filters=fil*4, kernel_size=(3,3), padding=\"same\", activation=\"relu\"))\n",
        "model.add(MaxPooling2D(pool_size=(2,2),strides=(2,2)))\n",
        "\n",
        "model.add(Conv2D(filters=fil*4, kernel_size=(3,3), padding=\"same\", activation=\"relu\"))\n",
        "model.add(Conv2D(filters=fil*4, kernel_size=(3,3), padding=\"same\", activation=\"relu\"))\n",
        "model.add(Conv2D(filters=fil*4, kernel_size=(3,3), padding=\"same\", activation=\"relu\"))\n",
        "model.add(MaxPooling2D(pool_size=(2,2),strides=(2,2)))\n",
        "\n",
        "model.add(Conv2D(filters=fil*4, kernel_size=(3,3), padding=\"same\", activation=\"relu\"))\n",
        "model.add(Conv2D(filters=fil*4, kernel_size=(3,3), padding=\"same\", activation=\"relu\"))\n",
        "model.add(Conv2D(filters=fil*4, kernel_size=(3,3), padding=\"same\", activation=\"relu\"))\n",
        "model.add(MaxPooling2D(pool_size=(2,2),strides=(2,2)))\n",
        "\n",
        "model.add(GlobalMaxPooling2D())\n",
        "model.add(Dense(fil*2,activation='relu'))\n",
        "model.add(Dense(2,activation=\"relu\"))"
      ],
      "execution_count": null,
      "outputs": []
    },
    {
      "cell_type": "code",
      "metadata": {
        "id": "Nr3U_pdw4b2W"
      },
      "source": [
        "red_lr=ReduceLROnPlateau(monitor='val_acc', factor=0.1, min_delta=0.0001, patience=2, verbose=1)"
      ],
      "execution_count": null,
      "outputs": []
    },
    {
      "cell_type": "code",
      "metadata": {
        "id": "PyQIc9t-pcnS"
      },
      "source": [
        "datagen = ImageDataGenerator(featurewise_center= False,\n",
        "                              samplewise_center= False,\n",
        "                              featurewise_std_normalization= False,\n",
        "                              samplewise_std_normalization=False,\n",
        "                              rotation_range= 0,        \n",
        "                              zca_whitening=False,\n",
        "                              zoom_range=0.1,           \n",
        "                              width_shift_range=0.1,   \n",
        "                              height_shift_range=0.1,    \n",
        "                              horizontal_flip=True,     \n",
        "                              vertical_flip=False)       \n",
        "                             \n",
        "datagen.fit(X_train)"
      ],
      "execution_count": null,
      "outputs": []
    },
    {
      "cell_type": "markdown",
      "metadata": {
        "id": "HcjSjS8t714I"
      },
      "source": [
        "Compile and train the model"
      ]
    },
    {
      "cell_type": "code",
      "metadata": {
        "colab": {
          "base_uri": "https://localhost:8080/"
        },
        "id": "sJ5QJblCoXOh",
        "outputId": "e36cbd93-4251-4667-c9bc-4ee8e31ea61a"
      },
      "source": [
        "model.save(\"/content/drive/MyDrive/ColabNotebooks/data/model4.h5\")\n",
        "\n",
        "model.summary()"
      ],
      "execution_count": null,
      "outputs": [
        {
          "output_type": "stream",
          "text": [
            "WARNING:tensorflow:Compiled the loaded model, but the compiled metrics have yet to be built. `model.compile_metrics` will be empty until you train or evaluate the model.\n",
            "Model: \"sequential\"\n",
            "_________________________________________________________________\n",
            "Layer (type)                 Output Shape              Param #   \n",
            "=================================================================\n",
            "conv2d (Conv2D)              (None, 112, 112, 8)       224       \n",
            "_________________________________________________________________\n",
            "conv2d_1 (Conv2D)            (None, 112, 112, 8)       584       \n",
            "_________________________________________________________________\n",
            "max_pooling2d (MaxPooling2D) (None, 56, 56, 8)         0         \n",
            "_________________________________________________________________\n",
            "conv2d_2 (Conv2D)            (None, 56, 56, 16)        1168      \n",
            "_________________________________________________________________\n",
            "conv2d_3 (Conv2D)            (None, 56, 56, 16)        2320      \n",
            "_________________________________________________________________\n",
            "max_pooling2d_1 (MaxPooling2 (None, 28, 28, 16)        0         \n",
            "_________________________________________________________________\n",
            "conv2d_4 (Conv2D)            (None, 28, 28, 32)        4640      \n",
            "_________________________________________________________________\n",
            "conv2d_5 (Conv2D)            (None, 28, 28, 32)        9248      \n",
            "_________________________________________________________________\n",
            "conv2d_6 (Conv2D)            (None, 28, 28, 32)        9248      \n",
            "_________________________________________________________________\n",
            "max_pooling2d_2 (MaxPooling2 (None, 14, 14, 32)        0         \n",
            "_________________________________________________________________\n",
            "conv2d_7 (Conv2D)            (None, 14, 14, 32)        9248      \n",
            "_________________________________________________________________\n",
            "conv2d_8 (Conv2D)            (None, 14, 14, 32)        9248      \n",
            "_________________________________________________________________\n",
            "conv2d_9 (Conv2D)            (None, 14, 14, 32)        9248      \n",
            "_________________________________________________________________\n",
            "max_pooling2d_3 (MaxPooling2 (None, 7, 7, 32)          0         \n",
            "_________________________________________________________________\n",
            "conv2d_10 (Conv2D)           (None, 7, 7, 32)          9248      \n",
            "_________________________________________________________________\n",
            "conv2d_11 (Conv2D)           (None, 7, 7, 32)          9248      \n",
            "_________________________________________________________________\n",
            "conv2d_12 (Conv2D)           (None, 7, 7, 32)          9248      \n",
            "_________________________________________________________________\n",
            "max_pooling2d_4 (MaxPooling2 (None, 3, 3, 32)          0         \n",
            "_________________________________________________________________\n",
            "global_max_pooling2d (Global (None, 32)                0         \n",
            "_________________________________________________________________\n",
            "dense (Dense)                (None, 16)                528       \n",
            "_________________________________________________________________\n",
            "dense_1 (Dense)              (None, 2)                 34        \n",
            "=================================================================\n",
            "Total params: 83,482\n",
            "Trainable params: 83,482\n",
            "Non-trainable params: 0\n",
            "_________________________________________________________________\n"
          ],
          "name": "stdout"
        }
      ]
    },
    {
      "cell_type": "code",
      "metadata": {
        "id": "TFrlDvvrn1um"
      },
      "source": [
        "import tensorflow as tf\n",
        "model_checkpoint_callback = tf.keras.callbacks.ModelCheckpoint(\n",
        "    filepath='/content/drive/MyDrive/ColabNotebooks/data/model4.h5',\n",
        "    save_weights_only=True,\n",
        "    monitor='val_accuracy',\n",
        "    mode='max',\n",
        "    save_best_only=True)\n"
      ],
      "execution_count": null,
      "outputs": []
    },
    {
      "cell_type": "code",
      "metadata": {
        "id": "bRrzzZI-z9-J"
      },
      "source": [
        "model.compile(optimizer=Adam(lr = 1e-4), loss= 'categorical_crossentropy', metrics=['accuracy'])\n",
        "\n",
        "batch_size=32\n",
        "\n",
        "History = model.fit_generator(datagen.flow(X_train,y_train, batch_size=batch_size),\n",
        "                              epochs = 1, validation_data = (X_test,y_test),                            \n",
        "                              verbose = 1, steps_per_epoch= 25, callbacks=[model_checkpoint_callback])"
      ],
      "execution_count": null,
      "outputs": []
    },
    {
      "cell_type": "markdown",
      "metadata": {
        "id": "2tfdEE00qTpx"
      },
      "source": [
        "Show accuracy and loss"
      ]
    },
    {
      "cell_type": "code",
      "metadata": {
        "id": "fyPF1BxjCMPn",
        "colab": {
          "base_uri": "https://localhost:8080/",
          "height": 295
        },
        "outputId": "0ff87998-5eeb-4e70-f156-4de0dba7b714"
      },
      "source": [
        "import matplotlib.pyplot as plt\n",
        "plt.plot(History.history[\"accuracy\"])\n",
        "plt.plot(History.history['val_accuracy'])\n",
        "plt.plot(History.history['loss'])\n",
        "plt.plot(History.history['val_loss'])\n",
        "plt.title(\"model accuracy\")\n",
        "plt.ylabel(\"Accuracy\")\n",
        "plt.xlabel(\"Epoch\")\n",
        "plt.legend([\"Accuracy\",\"Validation Accuracy\",\"loss\",\"Validation Loss\"])\n",
        "plt.show()"
      ],
      "execution_count": null,
      "outputs": [
        {
          "output_type": "display_data",
          "data": {
            "image/png": "[encoded data removed]",
            "text/plain": [
              "<Figure size 432x288 with 1 Axes>"
            ]
          },
          "metadata": {
            "tags": [],
            "needs_background": "light"
          }
        }
      ]
    },
    {
      "cell_type": "markdown",
      "metadata": {
        "id": "FTMy1aCEcCWj"
      },
      "source": [
        "Save model\n"
      ]
    },
    {
      "cell_type": "code",
      "metadata": {
        "id": "-r3bdp_wcBPh"
      },
      "source": [
        "model.save(\"/content/drive/MyDrive/ColabNotebooks/data/model4.h5\")"
      ],
      "execution_count": null,
      "outputs": []
    },
    {
      "cell_type": "markdown",
      "metadata": {
        "id": "fbbIfKJSPSm2"
      },
      "source": [
        "1.   model2.h -> 4 layer first, 32 layer last\n",
        "2.   model3.h -> 8 layer first, 32 layer last, softmax\n",
        "3.   model4.h -> 8 layer first, 32 layer last, relu\n",
        "4.   model6.h -> 8 layer first, 64 layer last\n",
        "\n",
        "\n"
      ]
    },
    {
      "cell_type": "code",
      "metadata": {
        "colab": {
          "base_uri": "https://localhost:8080/"
        },
        "id": "PcmaajNYy6u8",
        "outputId": "d400b611-238b-4a80-e0a8-a9b9333c0f8b"
      },
      "source": [
        "base_model = keras.models.load_model('/content/drive/MyDrive/ColabNotebooks/data/model3.h5') \n",
        "\n",
        "loss, acc = base_model.evaluate(X_test, y_test, verbose=0)\n",
        "print(f\"Train accuracy {acc*100}\")"
      ],
      "execution_count": null,
      "outputs": [
        {
          "output_type": "stream",
          "text": [
            "Train accuracy 86.00000143051147\n"
          ],
          "name": "stdout"
        }
      ]
    },
    {
      "cell_type": "markdown",
      "metadata": {
        "id": "Psr4KJ7Vt6AL"
      },
      "source": [
        "Testing"
      ]
    },
    {
      "cell_type": "code",
      "metadata": {
        "colab": {
          "base_uri": "https://localhost:8080/"
        },
        "id": "4RZBd3lRQaW5",
        "outputId": "81b0aba6-e3f5-4bfc-c108-369549dd328e"
      },
      "source": [
        "import numpy as np\n",
        "from keras.preprocessing import image\n",
        "from tensorflow import keras\n",
        "from keras.preprocessing import image\n",
        "from google.colab.patches import cv2_imshow\n",
        "\n",
        "img_size = 112\n",
        "saved_model = keras.models.load_model('/content/drive/MyDrive/ColabNotebooks/data/model3.h5')\n",
        "\n",
        "num = 200\n",
        "accu = 0\n",
        "\n",
        "for i in range(0, num):\n",
        "  path = '/content/drive/MyDrive/ColabNotebooks/data/test/apple/apple_' + str(10000+i) + '.jpg'\n",
        "\n",
        "  x = cv2.imread(path)\n",
        "  x = cv2.resize(x,(112,112), interpolation= cv2.INTER_AREA)\n",
        "  x = cv2.cvtColor(x, cv2.COLOR_BGR2RGB)\n",
        "\n",
        "  x = x /255.0\n",
        "  x = np.asarray(x) \n",
        "  x = np.expand_dims(x, axis=0)\n",
        "\n",
        "  output = saved_model.predict(x)\n",
        "  output = output.squeeze()\n",
        "  if output[0] > output[1]:\n",
        "    accu += 1\n",
        "\n",
        "print(\"Test apple accuracy:\" , accu/num*100)\n",
        "accu = 0\n",
        "\n",
        "for i in range(0, num):\n",
        "  path = '/content/drive/MyDrive/ColabNotebooks/data/test/orange/orange_' + str(1000+i) + '.jpg'\n",
        "\n",
        "  x = cv2.imread(path)\n",
        "  x = cv2.resize(x,(112,112), interpolation= cv2.INTER_AREA)\n",
        "  x = cv2.cvtColor(x, cv2.COLOR_BGR2RGB)\n",
        "\n",
        "  x = x /255.0\n",
        "  x = np.asarray(x) \n",
        "  x = np.expand_dims(x, axis=0)\n",
        "\n",
        "  output = saved_model.predict(x)\n",
        "  output = output.squeeze()\n",
        "  if output[0] < output[1]:\n",
        "    accu += 1\n",
        "\n",
        "print(\"Test orange accuracy:\" , accu/num*100)\n"
      ],
      "execution_count": null,
      "outputs": [
        {
          "output_type": "stream",
          "text": [
            "Test apple accuracy: 99.0\n",
            "Test orange accuracy: 99.5\n"
          ],
          "name": "stdout"
        }
      ]
    },
    {
      "cell_type": "markdown",
      "metadata": {
        "id": "Z34tsxBbyO-I"
      },
      "source": [
        "1->13"
      ]
    },
    {
      "cell_type": "code",
      "metadata": {
        "id": "4Bj5C9v6yOdM"
      },
      "source": [
        "from tensorflow import keras\n",
        "import cv2\n",
        "import sys\n",
        "import numpy\n",
        "import re\n",
        "import struct\n",
        "\n",
        "base_model = keras.models.load_model('/content/drive/MyDrive/ColabNotebooks/data/model3.h5')\n",
        "\n",
        "def binary(num):\n",
        "    return ''.join('{:0>8b}'.format(c) for c in struct.pack('!f', num))\n",
        "\n",
        "size = 112\n",
        "layer = 8\n",
        "\n",
        "withd = [0,size,size,size//2,size//2,size//4,size//4,size//4,\n",
        "         size//8,size//8,size//8,size//16,size//16,size//16]\n",
        "\n",
        "conv = [0,3,layer,layer,layer*2,layer*2,layer*4,layer*4,layer*4,\n",
        "        layer*4,layer*4,layer*4,layer*4,layer*4]\n",
        "lay = [0,layer,layer,layer*2,layer*2,layer*4,layer*4,layer*4,layer*4,\n",
        "       layer*4,layer*4,layer*4,layer*4,layer*4]\n",
        "\n",
        "mod = [0,0,1,3,4,6,7,8,10,11,12,14,15,16]\n",
        "pi_bi = [0,1,3,3,4,4,5,5,5,5,5,5,5,5]\n",
        "pi_lay = [0,1,2,2,4,4,6,6,6,6,6,6,6,6]\n",
        "con_lay = [0,1,2,3,4,5,6,7,6,6,7,6,6,13]\n",
        "max = [False,False,True,False,True,False,False,True,False,False,True,False,False,True]\n",
        "\n",
        "for z in range (1,14):\n",
        "    kernel1 = base_model.layers[mod[z]].get_weights()[0]\n",
        "    bias1   = base_model.layers[mod[z]].get_weights()[1]\n",
        "\n",
        "    kernel = 3\n",
        "    conv2d = conv[z]\n",
        "    layer = lay[z]\n",
        "    pipe_bias = pi_bi[z]\n",
        "    pipe_layer = pi_lay[z]\n",
        "    control_layer = con_lay[z]\n",
        "\n",
        "    f = open('/content/drive/MyDrive/ColabNotebooks/data/Layer' + str(z) + '_1.txt', 'w')\n",
        "\n",
        "    f.write(\"module layer\" + str(z) + \"_1#(\\n\")\n",
        "    f.write(\"    parameter DATA_WIDTH = 32,\\n\")\n",
        "    f.write(\"    parameter WIDTH = \" + str(withd[z]) + \"\\n\")\n",
        "    f.write(\")(\\n\")\n",
        "    f.write(\"  input  [DATA_WIDTH*\" + str(conv2d) + \"-1:0] i_data,\\n\")\n",
        "    f.write(\"  input              clk, rst, valid_in,\\n\")\n",
        "    f.write(\"  output [DATA_WIDTH*\" + str(layer) + \"-1:0] o_data,\\n\")\n",
        "    f.write(\"  output             valid_out\\n\")       \n",
        "    f.write(\");\\n\")\n",
        "    f.write(\"  wire [DATA_WIDTH*\" + str(conv2d) + \"-1:0] i_CORE_IP1 [\" + str(layer-1) + \":0];\\n\")\n",
        "    if (max[z]):\n",
        "        f.write(\"  wire [DATA_WIDTH*\" + str(conv2d) + \"-1:0] i_CORE_IP2;\\n\")\n",
        "        if (z == 13):\n",
        "            f.write(\"  wire [DATA_WIDTH*\" + str(conv2d) + \"-1:0] i_CORE_IP3;\\n\")\n",
        "    f.write(\"  wire padding_valid, valid_in_pipeline2D, valid_in_bias;\\n\")\n",
        "    f.write(\"  wire [31:0] counter_col, counter_row;\\n\")\n",
        "    if (max[z]):\n",
        "        f.write(\"  wire valid_in_maxpooling, valid_in_max, valid_in_max1; \\n\")\n",
        "        if (z == 13):\n",
        "            f.write(\"  wire valid_in_maxpooling3x3, valid_in_max3x3;\\n\")\n",
        "            f.write(\"  wire [2:0] valid_in_max13x3; \\n\")\n",
        "    f.write(\"  wire [3:0] valid_pipeline2D;\\n\")\n",
        "    f.write(\"  wire [\" + str(pipe_bias) + \":0] valid_pipeline_bias;\\n\")\n",
        "    f.write(\"\\n\")\n",
        "    for i in range(0, layer):\n",
        "        f.write(\"/// CON2D_\" + str(i+1) + \"///////////////////\\n\")\n",
        "        for j in range(0, conv2d):\n",
        "            f.write(\"  Con2D #(\\n\")\n",
        "            f.write(\"      .DATA_WIDTH(DATA_WIDTH),\\n\")\n",
        "            f.write(\"      .WIDTH(WIDTH),\\n\")\n",
        "            for k in range(0, kernel):\n",
        "                for l in range(0, kernel):\n",
        "                    f.write(\"      .k\" + str(k*3+l+1) + \"(32'b\" + binary(kernel1[k][l][j][i]) + \")\")\n",
        "                    if (k*3+l) != 8:\n",
        "                        f.write(\",\\n\")\n",
        "                    else:\n",
        "                        f.write(\"\\n\")\n",
        "            f.write(\"  ) CON2D_\" + str(i*conv2d+j+1) + \"(\\n\")\n",
        "            f.write(\"      .i_data(i_data[DATA_WIDTH*\" + str(j+1) + \"-1:DATA_WIDTH*\" + str(j) + \"]),\\n\")\n",
        "            f.write(\"      .clk(clk), \\n\")\n",
        "            f.write(\"      .rst(rst), \\n\")\n",
        "            f.write(\"      .valid_in(padding_valid),\\n\")\n",
        "            f.write(\"      .valid_in_pipeline2D(valid_in_pipeline2D),\\n\")\n",
        "            f.write(\"      .counter_col(counter_col),\\n\")\n",
        "            f.write(\"      .counter_row(counter_row),\\n\")\n",
        "            f.write(\"      .valid_pipeline2D(valid_pipeline2D),\\n\")\n",
        "            f.write(\"      .o_data(i_CORE_IP1[\" + str(i) + \"][DATA_WIDTH*\" + str(j+1) + \"-1:DATA_WIDTH*\" + str(j) + \"])\\n\")\n",
        "            f.write(\"  );\\n\")\n",
        "            f.write(\"\\n\") \n",
        "\n",
        "        f.write(\"\\n\")  \n",
        "        f.write(\"pipeline_layer\" + str(pipe_layer) + \"#(\\n\")\n",
        "        f.write(\"    .DATA_WIDTH(DATA_WIDTH),\\n\")\n",
        "        f.write(\"    .bias(32'b\" + binary(bias1[i]) + \")\\n\")\n",
        "        f.write(\")   op\" + str(i+1) + \"(\\n\")\n",
        "        f.write(\"    .i_pipeline_layer\" + str(pipe_layer) + \"(i_CORE_IP1[\" + str(i) + \"]), \\n\")\n",
        "        f.write(\"    .clk(clk),\\n\") \n",
        "        f.write(\"    .rst(rst),\\n\")\n",
        "        f.write(\"    .valid_in_bias(valid_in_bias),\\n\")\n",
        "        f.write(\"    .valid_pipeline(valid_pipeline_bias),\\n\")\n",
        "        if (max[z]):\n",
        "            f.write(\"    .o_data(i_CORE_IP2[DATA_WIDTH*\" + str(i+1) + \"-1:DATA_WIDTH*\" + str(i) + \"])\\n\")\n",
        "        else:\n",
        "            f.write(\"    .o_data(o_data[DATA_WIDTH*\" + str(i+1) + \"-1:DATA_WIDTH*\" + str(i) + \"])\\n\")\n",
        "        f.write(\");\\n\")\n",
        "        f.write(\"\\n\")\n",
        "\n",
        "        if (max[z]):\n",
        "            f.write(\"  MaxPooling #(\\n\")\n",
        "            f.write(\"    .DATA_WIDTH(DATA_WIDTH),\\n\")\n",
        "            f.write(\"    .WIDTH(WIDTH)\\n\")\n",
        "            f.write(\"  ) maxpooling\" + str(i+1) + \"(\\n\")\n",
        "            f.write(\"    .i_data(i_CORE_IP2[DATA_WIDTH*\" + str(i+1) + \"-1:DATA_WIDTH*\" + str(i) + \"]),\\n\")\n",
        "            f.write(\"    .valid_in(valid_in_maxpooling), \\n\")\n",
        "            f.write(\"    .valid_in_max(valid_in_max), \\n\")\n",
        "            f.write(\"    .valid_in_max1(valid_in_max1), \\n\")\n",
        "            f.write(\"    .clk(clk), \\n\")\n",
        "            f.write(\"    .rst(rst),\\n\")\n",
        "            if (z != 13):\n",
        "                f.write(\"    .o_data(o_data[DATA_WIDTH*\" + str(i+1) + \"-1:DATA_WIDTH*\" + str(i) + \"])\\n\")\n",
        "                f.write(\"  );\\n\")\n",
        "                f.write(\"\\n\")\n",
        "            else:\n",
        "                f.write(\"    .o_data(i_CORE_IP3[DATA_WIDTH*\" + str(i+1) + \"-1:DATA_WIDTH*\" + str(i) + \"])\\n\")\n",
        "                f.write(\"  );\\n\")\n",
        "                f.write(\"\\n\")\n",
        "                f.write(\"  MaxPooling3x3 #(\\n\")\n",
        "                f.write(\"    .DATA_WIDTH(DATA_WIDTH),\\n\")\n",
        "                f.write(\"    .WIDTH(3)\\n\")\n",
        "                f.write(\"  ) maxpooling3x3\" + str(i+1) + \"(\\n\")\n",
        "                f.write(\"    .i_data(i_CORE_IP3[DATA_WIDTH*\" + str(i+1) + \"-1:DATA_WIDTH*\" + str(i) + \"]),\\n\")\n",
        "                f.write(\"    .valid_in(valid_in_maxpooling3x3), \\n\")\n",
        "                f.write(\"    .valid_in_max(valid_in_max3x3), \\n\")\n",
        "                f.write(\"    .valid_in_max1(valid_in_max13x3), \\n\")\n",
        "                f.write(\"    .clk(clk), \\n\")\n",
        "                f.write(\"    .rst(rst),\\n\")\n",
        "                f.write(\"    .o_data(o_data[DATA_WIDTH*\" + str(i+1) + \"-1:DATA_WIDTH*\" + str(i) + \"])\\n\")\n",
        "                f.write(\"  );\\n\")\n",
        "                f.write(\"\\n\")\n",
        "\n",
        "    f.write(\"  control_layer\" + str(control_layer) + \"#(\\n\")\n",
        "    f.write(\"      .WIDTH(WIDTH)\\n\")\n",
        "    f.write(\"    )control( \\n\")\n",
        "    f.write(\"      .clk(clk), \\n\")\n",
        "    f.write(\"      .rst(rst),\\n\")\n",
        "    f.write(\"      .valid_in(valid_in), \\n\")\n",
        "    f.write(\"      .padding_valid(padding_valid), \\n\")\n",
        "    f.write(\"      .counter_col(counter_col), \\n\")\n",
        "    f.write(\"      .counter_row(counter_row), \\n\")\n",
        "    f.write(\"      .valid_in_pipeline2D(valid_in_pipeline2D),\\n\")\n",
        "    f.write(\"      .valid_pipeline2D(valid_pipeline2D),\\n\")\n",
        "    f.write(\"      .valid_in_bias(valid_in_bias),\\n\")\n",
        "    f.write(\"      .valid_pipeline_bias(valid_pipeline_bias),\\n\")\n",
        "    if (max[z]):\n",
        "        f.write(\"      .valid_in_maxpooling(valid_in_maxpooling), \\n\")\n",
        "        f.write(\"      .valid_in_max(valid_in_max), \\n\")\n",
        "        f.write(\"      .valid_in_max1(valid_in_max1),\\n\")\n",
        "        if z == 13:\n",
        "          f.write(\"      .valid_in_maxpooling3x3(valid_in_maxpooling3x3),\\n\")\n",
        "          f.write(\"      .valid_in_max3x3(valid_in_max3x3),\\n\")\n",
        "          f.write(\"      .valid_in_max13x3(valid_in_max13x3),\\n\")\n",
        "    f.write(\"      .valid_out(valid_out)\\n\")\n",
        "    f.write(\"    );\\n\")\n",
        "    f.write(\"endmodule\\n\")\n",
        "    f.close()"
      ],
      "execution_count": null,
      "outputs": []
    },
    {
      "cell_type": "markdown",
      "metadata": {
        "id": "nLQDzxzJyVtI"
      },
      "source": [
        "FC"
      ]
    },
    {
      "cell_type": "code",
      "metadata": {
        "id": "gvhimXXIyWAo"
      },
      "source": [
        "from tensorflow import keras\n",
        "import cv2\n",
        "import sys\n",
        "import numpy\n",
        "import re\n",
        "import struct\n",
        "\n",
        "\n",
        "base_model = keras.models.load_model('/home/iodern/CE434/Final/model3.h5') \n",
        "\n",
        "def binary(num):\n",
        "    return ''.join('{:0>8b}'.format(c) for c in struct.pack('!f', num))\n",
        "\n",
        "fully = [19,20]\n",
        "lay = [16,2]\n",
        "conv = [32,16]\n",
        "valid = [6,5]\n",
        "\n",
        "for z in range(0,2):\n",
        "    fc = base_model.layers[fully[z]]\n",
        "    kernel1 = fc.get_weights()[0]\n",
        "    bias1 = fc.get_weights()[1]\n",
        "\n",
        "    layer = lay[z]\n",
        "    conv2d = conv[z]\n",
        "\n",
        "    f = open('/home/iodern/CE434/Final/Layer' + str(14+z) + '_1.v', 'w')\n",
        "\n",
        "    f.write(\"module layer\" + str(14+z) + \"_1#(\\n\")\n",
        "    f.write(\"  parameter DATA_WIDTH = 32\\n\")\n",
        "    f.write(\"  )(\\n\")\n",
        "    f.write(\"  input  [DATA_WIDTH*\" + str(conv2d) + \"-1:0] i_data,\\n\")\n",
        "    f.write(\"  input         clk, rst, valid_in,\\n\")\n",
        "    f.write(\"  output reg[DATA_WIDTH*\" + str(layer) + \"-1:0] o_data ,\\n\")\n",
        "    f.write(\"  output valid_out\\n\")\n",
        "    f.write(\"  );\\n\")\n",
        "    f.write(\"  \\n\")\n",
        "    f.write(\"  wire [\" + str(valid[z]) + \":0] valid_FC;\\n\")\n",
        "    f.write(\"\\n\")\n",
        "\n",
        "    for i in range(0, layer):\n",
        "        if (z == 0):\n",
        "            f.write(\"  FC#(\\n\")\n",
        "        else:\n",
        "            f.write(\"  FC_16#(\\n\")\n",
        "        f.write(\"  .DATA_WIDTH(DATA_WIDTH),\\n\")\n",
        "        for j in range(0, conv2d):\n",
        "            f.write(\"      .k\" + str(j+1) + \"(32'b\" + binary(kernel1[j][i]) + \"),\\n\")\n",
        "        f.write(\"      .bias(32'b\" + binary(bias1[i]) + \")\\n\")\n",
        "        f.write(\"  ) FC\" + str(i+1) + \" (\\n\")\n",
        "        f.write(\"      .i_data(i_data),\\n\")\n",
        "        f.write(\"      .clk(clk), \\n\")\n",
        "        f.write(\"      .rst(rst), \\n\")\n",
        "        f.write(\"      .valid_in(valid_in),\\n\")\n",
        "        if (z == 0):\n",
        "            f.write(\"      .valid_FC(valid_FC),\\n\")\n",
        "        else:\n",
        "            f.write(\"      .valid_pipeline_FC(valid_FC),\\n\")\n",
        "        f.write(\"      .o_data(o_data[DATA_WIDTH*\" + str(i+1) + \"-1:DATA_WIDTH*\" + str(i) + \"])  \\n\")\n",
        "        f.write(\"  );\\n\")\n",
        "        f.write(\"\\n\")\n",
        "        \n",
        "    if (z == 0):\n",
        "        f.write(\" control_FC control1(\\n\")\n",
        "    else:\n",
        "        f.write(\" control_FC_16 control1(\\n\")\n",
        "    if (z == 0):\n",
        "        f.write(\"       .valid_in(valid_in), \\n\")\n",
        "    else:\n",
        "        f.write(\"       .valid_in_FC(valid_in), \\n\")\n",
        "    f.write(\"       .clk(clk), \\n\")\n",
        "    f.write(\"       .rst(rst),\\n\")\n",
        "    f.write(\"       .valid_out(valid_out),\\n\")\n",
        "    if (z == 0):    \n",
        "        f.write(\"       .valid_FC(valid_FC)  \\n\")\n",
        "    else:\n",
        "        f.write(\"       .valid_in_FC1(valid_FC)  \\n\")\n",
        "    f.write(\"  );\\n\")\n",
        "    f.write(\"endmodule\\n\")\n",
        "\n",
        "    f.close()"
      ],
      "execution_count": null,
      "outputs": []
    },
    {
      "cell_type": "markdown",
      "metadata": {
        "id": "XerJmW4BSskz"
      },
      "source": [
        "Get layer in VGG16 by Python"
      ]
    },
    {
      "cell_type": "code",
      "metadata": {
        "id": "jFszCKR-wiVO"
      },
      "source": [
        "import matplotlib.pyplot as plt\n",
        "from keras import backend as K\n",
        "\n",
        "def feature_map_show(x, title):\n",
        "    num_out_channels = x.shape[2]\n",
        "    num_diagram_col = 4\n",
        "    if num_out_channels >= 16:\n",
        "        num_diagram_col = 8\n",
        "    num_diagram_row = np.ceil(num_out_channels / num_diagram_col)\n",
        "\n",
        "    num_diagram_col = int(num_diagram_col)\n",
        "    num_diagram_row = int(num_diagram_row)\n",
        "\n",
        "    fig, axs = plt.subplots(\n",
        "        nrows=num_diagram_row,\n",
        "        ncols=num_diagram_col,\n",
        "        figsize=(7 * num_diagram_col, 5 * num_diagram_row)\n",
        "    )\n",
        "\n",
        "    for i in range(num_out_channels):\n",
        "        row = i // num_diagram_col\n",
        "        col = i  % num_diagram_col\n",
        "\n",
        "        axs[row][col].imshow(x[:, :, i], cmap='gray')\n",
        "        axs[row][col].axis('off')\n",
        "\n",
        "    fig.suptitle(title, fontsize=30)\n",
        "    fig.savefig('{:s}.png'.format(title))"
      ],
      "execution_count": 11,
      "outputs": []
    },
    {
      "cell_type": "code",
      "metadata": {
        "id": "tiP49Nw7wlG5"
      },
      "source": [
        "from tensorflow import keras\n",
        "import cv2\n",
        "\n",
        "base_model = keras.models.load_model('/content/drive/MyDrive/ColabNotebooks/data/model3.h5')\n",
        "\n",
        "path = '/content/drive/MyDrive/ColabNotebooks/data/test/orange/orange_9.jpg'\n",
        "x = cv2.imread(path)\n",
        "x = cv2.resize(x,(112,112))\n",
        "x = cv2.cvtColor(x, cv2.COLOR_BGR2RGB)\n",
        "x = x / 255.0\n",
        "x.shape\n",
        "\n",
        "conv1 = base_model.layers[0]\n",
        "conv2 = base_model.layers[1]\n",
        "y = conv1(x[np.newaxis,:,:,:])\n",
        "z = conv2(y)\n",
        "\n",
        "y = y.numpy()\n",
        "y = y.squeeze()\n",
        "\n",
        "z = z.numpy()\n",
        "z = z.squeeze()\n",
        "\n",
        "feature_map_show(y, \"KERAS_Layer1\")"
      ],
      "execution_count": null,
      "outputs": []
    },
    {
      "cell_type": "markdown",
      "metadata": {
        "id": "wsyCepXfY7BH"
      },
      "source": [
        "Convert picture to binary"
      ]
    },
    {
      "cell_type": "code",
      "metadata": {
        "id": "G2tTU1NMY5xi"
      },
      "source": [
        "import cv2\n",
        "from google.colab.patches import cv2_imshow\n",
        "import struct\n",
        "\n",
        "def binary(num):\n",
        "    return ''.join('{:0>8b}'.format(c) for c in struct.pack('!f', num))\n",
        "\n",
        "for i in range(0,5):\n",
        "  imagein = cv2.imread('/content/drive/MyDrive/ColabNotebooks/data/test/orange/orange_' + str(1000+i) + '.jpg')\n",
        "  size = (112, 112)\n",
        "  image = cv2.resize(imagein, size, interpolation= cv2.INTER_AREA)\n",
        "\n",
        "  f = open('/content/drive/MyDrive/ColabNotebooks/data/orange' + str(i) + '.txt', 'w')\n",
        "\n",
        "  for i in range(image.shape[0]):\n",
        "      for j in range(image.shape[1]):\n",
        "          b, g, r = image[i,j]\n",
        "          x = binary(b/255.0) + binary(g/255.0) + binary(r/255.0) + '\\n'\n",
        "          f.write(x)     \n",
        "  f.close()\n",
        "\n",
        "for i in range(0,5):\n",
        "  imagein = cv2.imread('/content/drive/MyDrive/ColabNotebooks/data/test/apple/apple_' + str(10000+i) + '.jpg')\n",
        "  size = (112, 112)\n",
        "  image = cv2.resize(imagein, size, interpolation= cv2.INTER_AREA)\n",
        "\n",
        "  f = open('/content/drive/MyDrive/ColabNotebooks/data/apple' + str(i) + '.txt', 'w')\n",
        "\n",
        "  for i in range(image.shape[0]):\n",
        "      for j in range(image.shape[1]):\n",
        "          b, g, r = image[i,j]\n",
        "          x = binary(b/255.0) + binary(g/255.0) + binary(r/255.0) + '\\n'\n",
        "          f.write(x)     \n",
        "  f.close()"
      ],
      "execution_count": null,
      "outputs": []
    },
    {
      "cell_type": "markdown",
      "metadata": {
        "id": "bFzExh_zmHU2"
      },
      "source": [
        "Compare Keras with RTL\n"
      ]
    },
    {
      "cell_type": "code",
      "metadata": {
        "id": "Z3lo-gPTmFYD",
        "colab": {
          "base_uri": "https://localhost:8080/",
          "height": 745
        },
        "outputId": "1e838f1e-bc1e-4c15-eaba-562296f6398f"
      },
      "source": [
        "import struct\n",
        "from PIL import Image\n",
        "\n",
        "from tensorflow import keras\n",
        "import cv2\n",
        "\n",
        "def bintofloat(value):\n",
        "    temp = int(value, 2)\n",
        "    return struct.unpack('f', struct.pack('I', temp))[0]\n",
        "\n",
        "base_model = keras.models.load_model('/content/drive/MyDrive/ColabNotebooks/data/model3.h5')\n",
        "\n",
        "pic = 0\n",
        "type = 'Orange'\n",
        "y = 15\n",
        "\n",
        "\n",
        "if type == 'Orange':\n",
        "  path = '/content/drive/MyDrive/ColabNotebooks/data/test/orange/orange_' + str(1000+pic) + '.jpg'\n",
        "else:\n",
        "  path = '/content/drive/MyDrive/ColabNotebooks/data/test/apple/apple_' + str(10000+pic) + '.jpg'\n",
        "\n",
        "x = cv2.imread(path)\n",
        "x = cv2.resize(x,(112,112), interpolation= cv2.INTER_AREA)\n",
        "x = cv2.cvtColor(x, cv2.COLOR_BGR2RGB)\n",
        "x = x /255.0\n",
        "x = np.asarray(x) \n",
        "x = np.expand_dims(x, axis=0)\n",
        "\n",
        "conv1 = base_model.layers[0]\n",
        "conv2 = base_model.layers[1]\n",
        "maxpool1 = base_model.layers[2]\n",
        "conv3 = base_model.layers[3]\n",
        "conv4 = base_model.layers[4]\n",
        "maxpool2 = base_model.layers[5]\n",
        "conv5 = base_model.layers[6]\n",
        "conv6 = base_model.layers[7]\n",
        "conv7 = base_model.layers[8]\n",
        "maxpool3 = base_model.layers[9]\n",
        "conv8 = base_model.layers[10]\n",
        "conv9 = base_model.layers[11]\n",
        "conv10 = base_model.layers[12]\n",
        "maxpool4 = base_model.layers[13]\n",
        "conv11 = base_model.layers[14]\n",
        "conv12 = base_model.layers[15]\n",
        "conv13 = base_model.layers[16]\n",
        "maxpool5 = base_model.layers[17]\n",
        "glopool = base_model.layers[18]\n",
        "fc1 = base_model.layers[19]\n",
        "fc2 = base_model.layers[20]\n",
        "\n",
        "lay1 = conv1(x)\n",
        "lay2 = conv2(lay1)\n",
        "pool1 = maxpool1(lay2)\n",
        "lay3 = conv3(pool1)\n",
        "lay4 = conv4(lay3)\n",
        "pool2 = maxpool2(lay4)\n",
        "lay5 = conv5(pool2)\n",
        "lay6 = conv6(lay5)\n",
        "lay7 = conv7(lay6)\n",
        "pool3 = maxpool3(lay7)\n",
        "lay8 = conv8(pool3)\n",
        "lay9 = conv9(lay8)\n",
        "lay10 = conv10(lay9)\n",
        "pool4 = maxpool4(lay10)\n",
        "lay11 = conv11(pool4)\n",
        "lay12 = conv12(lay11)\n",
        "lay13 = conv13(lay12)\n",
        "pool5 = maxpool5(lay13)\n",
        "glob = glopool(pool5)\n",
        "full1 = fc1(glob)\n",
        "full2 = fc2(full1)\n",
        "\n",
        "x = x.squeeze()\n",
        "\n",
        "lay1 = lay1.numpy()\n",
        "lay1 = lay1.squeeze()\n",
        "\n",
        "lay2 = lay2.numpy()\n",
        "lay2 = lay2.squeeze()\n",
        "\n",
        "pool1 = pool1.numpy()\n",
        "pool1 = pool1.squeeze()\n",
        "\n",
        "lay3 = lay3.numpy()\n",
        "lay3 = lay3.squeeze()\n",
        "\n",
        "lay4 = lay4.numpy()\n",
        "lay4 = lay4.squeeze()\n",
        "\n",
        "pool2 = pool2.numpy()\n",
        "pool2 = pool2.squeeze()\n",
        "\n",
        "lay5 = lay5.numpy()\n",
        "lay5 = lay5.squeeze()\n",
        "\n",
        "lay6 = lay6.numpy()\n",
        "lay6 = lay6.squeeze()\n",
        "\n",
        "lay7 = lay7.numpy()\n",
        "lay7 = lay7.squeeze()\n",
        "\n",
        "pool3 = pool3.numpy()\n",
        "pool3 = pool3.squeeze()\n",
        "\n",
        "lay8 = lay8.numpy()\n",
        "lay8 = lay8.squeeze()\n",
        "\n",
        "lay9 = lay9.numpy()\n",
        "lay9 = lay9.squeeze()\n",
        "\n",
        "lay10 = lay10.numpy()\n",
        "lay10 = lay10.squeeze()\n",
        "\n",
        "pool4 = pool4.numpy()\n",
        "pool4 = pool4.squeeze()\n",
        "\n",
        "lay11 = lay11.numpy()\n",
        "lay11 = lay11.squeeze()\n",
        "\n",
        "lay12 = lay12.numpy()\n",
        "lay12 = lay12.squeeze()\n",
        "\n",
        "lay13 = lay13.numpy()\n",
        "lay13 = lay13.squeeze()\n",
        "\n",
        "pool5 = pool5.numpy()\n",
        "pool5 = pool5.squeeze()\n",
        "\n",
        "glob = glob.numpy()\n",
        "glob = glob.squeeze()\n",
        "\n",
        "full1 = full1.numpy()\n",
        "full1 = full1.squeeze()\n",
        "\n",
        "full2 = full2.numpy()\n",
        "full2 = full2.squeeze()\n",
        "\n",
        "\n",
        "#----------------\n",
        "for y in range(2,16):\n",
        "\n",
        "  img = [0,112,56,56,28,28,28,14,14,14,7,7,7,1,1,1]\n",
        "  lay = [0,8,8,16,16,32,32,32,32,32,32,32,32,32,16,2]\n",
        "\n",
        "  layer = lay[y]\n",
        "  img_size = img[y]\n",
        "  size = (img_size, img_size)\n",
        "  accu = 0\n",
        "  z = layer-1\n",
        "\n",
        "  # if y == 1:\n",
        "  #   feature_map_show(lay1, \"KERAS_Layer\"+str(y))\n",
        "  # elif y == 2:\n",
        "  #   feature_map_show(pool1, \"KERAS_Layer\"+str(y))\n",
        "  # elif y == 3:\n",
        "  #   feature_map_show(lay3, \"KERAS_Layer\"+str(y))\n",
        "  # elif y == 4:\n",
        "  #   feature_map_show(pool2, \"KERAS_Layer\"+str(y))\n",
        "  # elif y == 5:\n",
        "  #   feature_map_show(lay5, \"KERAS_Layer\"+str(y))\n",
        "  # elif y == 6:\n",
        "  #   feature_map_show(lay6, \"KERAS_Layer\"+str(y))\n",
        "  # elif y == 7:\n",
        "  #   feature_map_show(pool3, \"KERAS_Layer\"+str(y))\n",
        "  # elif y == 8:\n",
        "  #   feature_map_show(lay8, \"KERAS_Layer\"+str(y))\n",
        "  # elif y == 9:\n",
        "  #   feature_map_show(lay9, \"KERAS_Layer\"+str(y))\n",
        "  # elif y == 10:\n",
        "  #   feature_map_show(pool4, \"KERAS_Layer\"+str(y))\n",
        "  # elif y == 11:\n",
        "  #   feature_map_show(lay11, \"KERAS_Layer\"+str(y))\n",
        "  # elif y == 12:\n",
        "  #   feature_map_show(lay12, \"KERAS_Layer\"+str(y))\n",
        "\n",
        "  if y >= 1 and y <= 14:\n",
        "    f = open('/content/drive/MyDrive/ColabNotebooks/data/RTL_' + type + str(pic) + '/input_layer'+ str(y+1) +'.txt', 'r')\n",
        "  elif y == 15:\n",
        "    f = open('/content/drive/MyDrive/ColabNotebooks/data/RTL_' + type + str(pic) + '/outCNN.txt', 'r')\n",
        "\n",
        "  t = f.readline()\n",
        "  t = f.readline()\n",
        "  t = f.readline()\n",
        "  for i in range(size[0]):\n",
        "    for j in range(size[1]):\n",
        "      for k in range(0, layer):   \n",
        "          t = f.readline(32)\n",
        "          x = float(bintofloat(t))\n",
        "          if y == 1:\n",
        "            accu += (x - lay1[i][j][z-k])*(x - lay1[i][j][z-k])\n",
        "            lay1[i][j][z-k] = x\n",
        "          elif y == 2:\n",
        "            accu += (x - pool1[i][j][z-k])*(x - pool1[i][j][z-k])\n",
        "            pool1[i][j][z-k] = x\n",
        "          elif y == 3:\n",
        "            accu += (x - lay3[i][j][z-k])*(x - lay3[i][j][z-k])\n",
        "            lay3[i][j][z-k] = x\n",
        "          elif y == 4:\n",
        "            accu += (x - pool2[i][j][z-k])*(x - pool2[i][j][z-k])\n",
        "            pool2[i][j][z-k] = x\n",
        "          elif y == 5:\n",
        "            accu += (x - lay5[i][j][z-k])*(x - lay5[i][j][z-k])\n",
        "            lay5[i][j][z-k] = x\n",
        "          elif y == 6:\n",
        "            accu += (x - lay6[i][j][z-k])*(x - lay6[i][j][z-k])\n",
        "            lay6[i][j][z-k] = x\n",
        "          elif y == 7:\n",
        "            accu += (x - pool3[i][j][z-k])*(x - pool3[i][j][z-k])\n",
        "            pool3[i][j][z-k] = x\n",
        "          elif y == 8:\n",
        "            accu += (x - lay8[i][j][z-k])*(x - lay8[i][j][z-k])\n",
        "            lay8[i][j][z-k] = x\n",
        "          elif y == 9:\n",
        "            accu += (x - lay9[i][j][z-k])*(x - lay9[i][j][z-k])\n",
        "            lay9[i][j][z-k] = x\n",
        "          elif y == 10:\n",
        "            accu += (x - pool4[i][j][z-k])*(x - pool4[i][j][z-k])\n",
        "            pool4[i][j][z-k] = x\n",
        "          elif y == 11:\n",
        "            accu += (x - lay11[i][j][z-k])*(x - lay11[i][j][z-k])\n",
        "            lay11[i][j][z-k] = x\n",
        "          elif y == 12:\n",
        "            accu += (x - lay12[i][j][z-k])*(x - lay12[i][j][z-k])\n",
        "            lay12[i][j][z-k] = x\n",
        "          elif y == 13:\n",
        "            accu += (x - glob[layer-1-k])*(x - glob[layer-1-k])\n",
        "            print(glob[layer-1-k], \"\\t\\t\", x)\n",
        "          elif y == 14:\n",
        "            accu += (x - full1[layer-1-k])*(x - full1[layer-1-k])\n",
        "            print(full1[layer-1-k], \"\\t\\t\", x)\n",
        "          elif y == 15:\n",
        "            accu += (x - full2[layer-1-k])*(x - full2[layer-1-k])\n",
        "            print(full2[layer-1-k], \"\\t\\t\", x)\n",
        "      t = f.readline()\n",
        "  f.close()\n",
        "\n",
        "  print(\"Mean square error:\",accu/(img_size*img_size*layer))\n",
        "\n",
        "# if y == 1:\n",
        "#   feature_map_show(lay1, \"RTL_Layer\"+str(y))\n",
        "# elif y == 2:\n",
        "#   feature_map_show(pool1, \"RTL_Layer\"+str(y))\n",
        "# elif y == 3:\n",
        "#   feature_map_show(lay3, \"RTL_Layer\"+str(y))\n",
        "# elif y == 4:\n",
        "#   feature_map_show(pool2, \"RTL_Layer\"+str(y))\n",
        "# elif y == 5:\n",
        "#   feature_map_show(lay5, \"RTL_Layer\"+str(y))\n",
        "# elif y == 6:\n",
        "#   feature_map_show(lay6, \"RTL_Layer\"+str(y))\n",
        "# elif y == 7:\n",
        "#   feature_map_show(pool3, \"RTL_Layer\"+str(y))\n",
        "# elif y == 8:\n",
        "#   feature_map_show(lay8, \"RTL_Layer\"+str(y))\n",
        "# elif y == 9:\n",
        "#   feature_map_show(lay9, \"RTL_Layer\"+str(y))\n",
        "# elif y == 10:\n",
        "#   feature_map_show(pool4, \"RTL_Layer\"+str(y))\n",
        "# elif y == 11:\n",
        "#   feature_map_show(lay11, \"RTL_Layer\"+str(y))\n",
        "# elif y == 12:\n",
        "#   feature_map_show(lay12, \"RTL_Layer\"+str(y))"
      ],
      "execution_count": 15,
      "outputs": [
        {
          "output_type": "stream",
          "text": [
            "Mean square error: 5.760355234705491e-15\n"
          ],
          "name": "stdout"
        },
        {
          "output_type": "display_data",
          "data": {
            "image/png": "[encoded data removed]",
            "text/plain": [
              "<Figure size 2016x720 with 8 Axes>"
            ]
          },
          "metadata": {
            "tags": [],
            "needs_background": "light"
          }
        },
        {
          "output_type": "display_data",
          "data": {
            "image/png": "[encoded data removed]",
            "text/plain": [
              "<Figure size 2016x720 with 8 Axes>"
            ]
          },
          "metadata": {
            "tags": [],
            "needs_background": "light"
          }
        }
      ]
    },
    {
      "cell_type": "markdown",
      "metadata": {
        "id": "aDc1fwz0to74"
      },
      "source": [
        "Print 1 layer with PIL"
      ]
    },
    {
      "cell_type": "code",
      "metadata": {
        "colab": {
          "base_uri": "https://localhost:8080/",
          "height": 285
        },
        "id": "xToDP2hRh0iu",
        "outputId": "c58c449f-0645-48f1-a2d8-7dbe49542f10"
      },
      "source": [
        "import struct\n",
        "from PIL import Image\n",
        "\n",
        "def bintofloat(value):\n",
        "    temp = int(value, 2)\n",
        "    return struct.unpack('f', struct.pack('I', temp))[0]\n",
        "\n",
        "accu2 = 0\n",
        "\n",
        "layer = 8\n",
        "\n",
        "img_size = 56\n",
        "size = (img_size, img_size)\n",
        "\n",
        "for k in range(0, 1):\n",
        "  print(k)\n",
        "  accu = 0\n",
        "  f = open('/content/drive/MyDrive/ColabNotebooks/data/Lenna_convert' + str(k) + '.txt', 'r')\n",
        "  new_img = Image.new('RGB', size)\n",
        "  pixels_new = new_img.load()\n",
        "  t = f.readline()\n",
        "  t = f.readline()\n",
        "  t = f.readline()\n",
        "  for i in range(new_img.size[0]):\n",
        "    for j in range(new_img.size[1]):\n",
        "        t = f.readline()\n",
        "        x = float(bintofloat(t))\n",
        "        pixels_new[j,i] = int(x*255), int(x*255), int(x*255)\n",
        "        # accu += (x - y[i][j][k]/255.0)*(x - y[i][j][k]/255.0)\n",
        "        \n",
        "  f.close()\n",
        "  # print(\"pic \", k,\":\",accu/(112*112))\n",
        "  # accu2 += accu\n",
        "  plt.imshow(new_img)\n",
        "  plt.show()\n",
        "  new_img.show()\n",
        "\n",
        "# print(\"total :\", accu2/(112*112*8))"
      ],
      "execution_count": null,
      "outputs": [
        {
          "output_type": "stream",
          "text": [
            "0\n"
          ],
          "name": "stdout"
        },
        {
          "output_type": "display_data",
          "data": {
            "image/png": "[encoded data removed]",
            "text/plain": [
              "<Figure size 432x288 with 1 Axes>"
            ]
          },
          "metadata": {
            "tags": [],
            "needs_background": "light"
          }
        }
      ]
    },
    {
      "cell_type": "markdown",
      "metadata": {
        "id": "uLJKFNByep3J"
      },
      "source": [
        "Python code testing"
      ]
    },
    {
      "cell_type": "code",
      "metadata": {
        "id": "jm9quhFgmWxF",
        "colab": {
          "base_uri": "https://localhost:8080/"
        },
        "outputId": "afc5cdf1-7d95-4622-ceb7-fb67ea6224bd"
      },
      "source": [
        "import math\n",
        "import struct\n",
        "from PIL import Image\n",
        "img_size = 112\n",
        "size = (img_size, img_size)\n",
        "\n",
        "from tensorflow import keras\n",
        "import cv2\n",
        "\n",
        "base_model = keras.models.load_model('/content/drive/MyDrive/ColabNotebooks/data/model3.h5')\n",
        "\n",
        "path = '/content/drive/MyDrive/ColabNotebooks/data/test/apple/apple_9.jpg'\n",
        "x = cv2.imread(path)\n",
        "x = cv2.resize(x,(112,112), interpolation= cv2.INTER_AREA)\n",
        "x = cv2.cvtColor(x, cv2.COLOR_BGR2RGB)\n",
        "x = x / 255.0\n",
        "\n",
        "conv1 = base_model.layers[0]\n",
        "conv2 = base_model.layers[1]\n",
        "maxpool1 = base_model.layers[2]\n",
        "\n",
        "lay1 = conv1(x[np.newaxis,:,:,:])\n",
        "lay2 = conv2(lay1)\n",
        "lay3 = maxpool1(lay2)\n",
        "\n",
        "lay1 = lay1.numpy()\n",
        "lay1 = lay1.squeeze()\n",
        "\n",
        "lay2 = lay2.numpy()\n",
        "lay2 = lay2.squeeze()\n",
        "\n",
        "lay3 = lay3.numpy()\n",
        "lay3 = lay3.squeeze()\n",
        "\n",
        "# feature_map_show(lay2, \"KERAS_Layer2\")\n",
        "kernel1 = base_model.layers[0].get_weights()[0]\n",
        "bias1   = base_model.layers[0].get_weights()[1]\n",
        "kernel2 = base_model.layers[1].get_weights()[0]\n",
        "bias2   = base_model.layers[1].get_weights()[1]\n",
        "\n",
        "\n",
        "kernel = 3\n",
        "conv2d = 8\n",
        "layer = 8\n",
        "size = 112\n",
        "\n",
        "for i in range (0, 1):\n",
        "  for u in range (0, size):\n",
        "    for v in range (0, size):\n",
        "      t1 = 0\n",
        "      for j in range (0, conv2d):\n",
        "        t0 = 0\n",
        "        for k in range (-1, kernel-1):\n",
        "          for l in range (-1, kernel-1):\n",
        "            if ((u+k >= 0) and (v+l >=0) and (u+k < size) and (v+l < size)):           \n",
        "              t0 += lay1[u+k][v+l][j]*kernel2[k+1][l+1][j][i]\n",
        "        t1 += t0\n",
        "      t1 += bias2[i]\n",
        "      if u==0 and v==0:\n",
        "        print(t1*225)\n",
        "      if u==0 and v==1:\n",
        "        print(t1)\n",
        "      if u==1 and v==0:\n",
        "        print(t1)\n",
        "      if u==1 and v==1:\n",
        "        print(t1)"
      ],
      "execution_count": null,
      "outputs": [
        {
          "output_type": "stream",
          "text": [
            "26.22790237655863\n",
            "0.0006467036437243223\n",
            "0.07122570735373301\n",
            "-0.11881923495820956\n"
          ],
          "name": "stdout"
        }
      ]
    },
    {
      "cell_type": "markdown",
      "metadata": {
        "id": "1H8QabpEfJ7L"
      },
      "source": [
        "Get kernel layer"
      ]
    },
    {
      "cell_type": "code",
      "metadata": {
        "id": "h0JhgIMzuUSv",
        "colab": {
          "base_uri": "https://localhost:8080/"
        },
        "outputId": "edd5de5f-cc96-486b-9b62-897a23369182"
      },
      "source": [
        "base_model = keras.models.load_model('/content/drive/MyDrive/ColabNotebooks/data/model3.h5') \n",
        "\n",
        "kernel1 = base_model.layers[19].get_weights()[0]\n",
        "\n",
        "print(kernel1.shape)"
      ],
      "execution_count": null,
      "outputs": [
        {
          "output_type": "stream",
          "text": [
            "(32, 16)\n"
          ],
          "name": "stdout"
        }
      ]
    },
    {
      "cell_type": "markdown",
      "metadata": {
        "id": "cKX-O13PeEGV"
      },
      "source": [
        "gelayer2"
      ]
    },
    {
      "cell_type": "code",
      "metadata": {
        "id": "K-TJLxIUylB9"
      },
      "source": [
        "import math\n",
        "import struct\n",
        "from PIL import Image\n",
        "img_size = 112\n",
        "size = (img_size, img_size)\n",
        "\n",
        "from tensorflow import keras\n",
        "import cv2\n",
        "\n",
        "base_model = keras.models.load_model('/content/drive/MyDrive/ColabNotebooks/data/model6.h5')\n",
        "\n",
        "path = '/content/drive/MyDrive/ColabNotebooks/data/Lenna.png'\n",
        "x = cv2.imread(path)\n",
        "x = cv2.resize(x,(112,112), interpolation= cv2.INTER_AREA)\n",
        "x = cv2.cvtColor(x, cv2.COLOR_BGR2RGB)\n",
        "x = x / 255.0\n",
        "\n",
        "conv1 = base_model.layers[0]\n",
        "conv2 = base_model.layers[1]\n",
        "maxpool1 = base_model.layers[2]\n",
        "\n",
        "lay1 = conv1(x[np.newaxis,:,:,:])\n",
        "lay2 = conv2(lay1)\n",
        "lay3 = maxpool1(lay2)\n",
        "\n",
        "lay1 = lay1.numpy()\n",
        "lay1 = lay1.squeeze()\n",
        "\n",
        "lay2 = lay2.numpy()\n",
        "lay2 = lay2.squeeze()\n",
        "\n",
        "lay3 = lay3.numpy()\n",
        "lay3 = lay3.squeeze()\n",
        "\n",
        "# feature_map_show(lay2, \"KERAS_Layer2\")\n",
        "kernel1 = base_model.layers[0].get_weights()[0]\n",
        "bias1   = base_model.layers[0].get_weights()[1]\n",
        "kernel2 = base_model.layers[1].get_weights()[0]\n",
        "bias2   = base_model.layers[1].get_weights()[1]\n",
        "\n",
        "def binary(num):\n",
        "    return ''.join('{:0>8b}'.format(c) for c in struct.pack('!f', num))\n",
        "\n",
        "\n",
        "f = open('/content/drive/MyDrive/ColabNotebooks/data/Lenna_conv2.txt', 'w')\n",
        "\n",
        "for i in range(0, 10):\n",
        "  x = ''\n",
        "  for j in range(0, 8):\n",
        "    x += binary(lay1[0][i][j])\n",
        "  f.write(x+'\\n')       \n",
        "f.close()\n"
      ],
      "execution_count": null,
      "outputs": []
    },
    {
      "cell_type": "code",
      "metadata": {
        "id": "khO6eA4ABc6k"
      },
      "source": [
        ""
      ],
      "execution_count": null,
      "outputs": []
    }
  ]
}